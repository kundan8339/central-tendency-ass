{
 "cells": [
  {
   "cell_type": "code",
   "execution_count": null,
   "id": "1f6648b4-3111-447c-93c7-84d36cea1bf6",
   "metadata": {},
   "outputs": [],
   "source": [
    "Q1. What are the three measures of central tendency?"
   ]
  },
  {
   "cell_type": "markdown",
   "id": "dc3ab745-6f2e-4fa4-9687-47b1611c1cab",
   "metadata": {},
   "source": [
    "1.Mean=the average of set of numbers,calculated by adding all the values together and dividing by the number values\n",
    "2.Median=the middle value in data set when the values are arranged in asceding or descending order.\n",
    "3.Mode=the value that appears most frequency in data set."
   ]
  },
  {
   "cell_type": "code",
   "execution_count": null,
   "id": "eb633e81-c7e9-460f-a636-a8a70c6b1677",
   "metadata": {},
   "outputs": [],
   "source": [
    "Q2. What is the difference between the mean, median, and mode? How are they used to measure the\n",
    "central tendency of a dataset?"
   ]
  },
  {
   "cell_type": "code",
   "execution_count": null,
   "id": "c2e217a3-695e-4563-a4db-48dc58401044",
   "metadata": {},
   "outputs": [],
   "source": [
    "1.Mean=the average of set of numbers,calculated by adding all the values together and dividing by the number values\n",
    "Mean=(all value)/Number of values.\n",
    "2.Median=the middle value in data set when the values are arranged in asceding or descending order.\n",
    "if number of value (n) is odd,the median value position n+1/2 \n",
    "if n is even the median is the average of the values at n/2 and n/2+1\n",
    "\n",
    "3.Mode=the value that appears most frequency in data set."
   ]
  },
  {
   "cell_type": "code",
   "execution_count": null,
   "id": "48646373-8ae9-41ae-abd0-3d9e252d2bf3",
   "metadata": {},
   "outputs": [],
   "source": [
    "Q3. Measure the three measures of central tendency for the given height data:\n",
    "[178,177,176,177,178.2,178,175,179,180,175,178.9,176.2,177,172.5,178,176.5]"
   ]
  },
  {
   "cell_type": "code",
   "execution_count": 1,
   "id": "ffa10e51-c516-436c-9a5f-207b0fa76ba9",
   "metadata": {},
   "outputs": [],
   "source": [
    "import numpy as np \n"
   ]
  },
  {
   "cell_type": "code",
   "execution_count": 2,
   "id": "4804cce1-e6d7-4c89-9fb9-1a40bafaae08",
   "metadata": {},
   "outputs": [],
   "source": [
    "from scipy import stats"
   ]
  },
  {
   "cell_type": "code",
   "execution_count": 3,
   "id": "64026b02-3b01-4285-a58a-e18f5b94ad49",
   "metadata": {},
   "outputs": [],
   "source": [
    "heights=[178,177,176,177,178.2,178,175,179,180,175,178.9,176.2,177,172.5,178,176.5]"
   ]
  },
  {
   "cell_type": "code",
   "execution_count": 4,
   "id": "bd7d64b9-7366-4ba9-830f-52178a18e0c6",
   "metadata": {},
   "outputs": [],
   "source": [
    "mean_height=np.mean(heights)"
   ]
  },
  {
   "cell_type": "code",
   "execution_count": 9,
   "id": "d41de7d8-0da1-4df2-97f8-fe5d6a3ba487",
   "metadata": {},
   "outputs": [],
   "source": [
    "median_height=np.median(heights)"
   ]
  },
  {
   "cell_type": "code",
   "execution_count": 10,
   "id": "e2e05107-14e6-42ca-bef8-85402cd4fb64",
   "metadata": {},
   "outputs": [
    {
     "name": "stderr",
     "output_type": "stream",
     "text": [
      "/tmp/ipykernel_110/1611386117.py:1: FutureWarning: Unlike other reduction functions (e.g. `skew`, `kurtosis`), the default behavior of `mode` typically preserves the axis it acts along. In SciPy 1.11.0, this behavior will change: the default value of `keepdims` will become False, the `axis` over which the statistic is taken will be eliminated, and the value None will no longer be accepted. Set `keepdims` to True or False to avoid this warning.\n",
      "  mode_height=stats.mode(heights)\n"
     ]
    }
   ],
   "source": [
    "mode_height=stats.mode(heights)"
   ]
  },
  {
   "cell_type": "code",
   "execution_count": 11,
   "id": "2dd7057a-302c-4c0b-ad4d-bec4d90387a0",
   "metadata": {},
   "outputs": [
    {
     "data": {
      "text/plain": [
       "(ModeResult(mode=array([177.]), count=array([3])), 177.0, 177.0, 3)"
      ]
     },
     "execution_count": 11,
     "metadata": {},
     "output_type": "execute_result"
    }
   ],
   "source": [
    "(mean_height, median_height, mode_height.mode[0], mode_height.count[0])"
   ]
  },
  {
   "cell_type": "code",
   "execution_count": null,
   "id": "85c4fdc3-29eb-4e71-aa53-51fe58724696",
   "metadata": {},
   "outputs": [],
   "source": [
    "Q4. Find the standard deviation for the given data:\n",
    "[178,177,176,177,178.2,178,175,179,180,175,178.9,176.2,177,172.5,178,176.5]"
   ]
  },
  {
   "cell_type": "code",
   "execution_count": 12,
   "id": "3bb79541-ef35-4ebd-b357-d006249a7fb9",
   "metadata": {},
   "outputs": [],
   "source": [
    "import numpy as np"
   ]
  },
  {
   "cell_type": "code",
   "execution_count": 13,
   "id": "6c414bcc-e963-4561-ae12-3c2debf614a3",
   "metadata": {},
   "outputs": [],
   "source": [
    "data=[178,177,176,177,178.2,178,175,179,180,175,178.9,176.2,177,172.5,178,176.5]"
   ]
  },
  {
   "cell_type": "code",
   "execution_count": 14,
   "id": "6ba2e296-acdd-4aac-a3c1-ec5d436a6645",
   "metadata": {},
   "outputs": [
    {
     "data": {
      "text/plain": [
       "1.7885814036548633"
      ]
     },
     "execution_count": 14,
     "metadata": {},
     "output_type": "execute_result"
    }
   ],
   "source": [
    "std_deviation=np.std(data)\n",
    "std_deviation"
   ]
  },
  {
   "cell_type": "code",
   "execution_count": null,
   "id": "ba23a7df-9036-4b1b-859f-c2e4054907bb",
   "metadata": {},
   "outputs": [],
   "source": [
    "Q5. How are measures of dispersion such as range, variance, and standard deviation used to describe\n",
    "the spread of a dataset? Provide an example."
   ]
  },
  {
   "cell_type": "markdown",
   "id": "6f21ee14-5eff-4f34-9a46-251dd175f760",
   "metadata": {},
   "source": [
    "1.Range:the range is the simplest measure of dispersion.\n",
    "ex= 5,7,9,10,12,the range is\n",
    "12-5=7\n",
    "2.Variance:5+7+9+10+12/5=8.6\n",
    "variance=(5-8.6)^2+(7-8.6)^2+(9-8.6)^2+(10-8.6)^2+(12-8.6)^2/5=5.84\n",
    "3.standard Deviation=underroot of Variance"
   ]
  },
  {
   "cell_type": "code",
   "execution_count": null,
   "id": "3b6b7c27-00fe-44bf-86c2-1e5892b60bd3",
   "metadata": {},
   "outputs": [],
   "source": [
    "Q6. What is a Venn diagram?"
   ]
  },
  {
   "cell_type": "markdown",
   "id": "02490a55-2ce5-41ef-8108-d2077c95d5cd",
   "metadata": {},
   "source": [
    "Venn diagram is a visual tool used to illustrate the realtionships btw different sets. it consists of overllapping circles, where each circle respresents a set.the areas where the circle overlap show the common element shared by the sets while the non overlapping area unique to each set."
   ]
  },
  {
   "cell_type": "code",
   "execution_count": null,
   "id": "20841ca0-6835-4915-87ae-4e3498cfb011",
   "metadata": {},
   "outputs": [],
   "source": [
    "Q7. For the two given sets A = (2,3,4,5,6,7) & B = (0,2,6,8,10). Find:\n",
    "(i) A B\n",
    "(ii) A ⋃ B"
   ]
  },
  {
   "cell_type": "code",
   "execution_count": null,
   "id": "440f165c-c0ee-4f01-8a62-f2260a2dbced",
   "metadata": {},
   "outputs": [],
   "source": [
    "UNION A U B = {0,2,3,4,5,6,7,8,10}\n",
    "Intersection(A U B) = {2,6}"
   ]
  },
  {
   "cell_type": "code",
   "execution_count": null,
   "id": "e904251c-3907-4f35-baad-283ea229ea4f",
   "metadata": {},
   "outputs": [],
   "source": [
    "Q8. What do you understand about skewness in data?"
   ]
  },
  {
   "cell_type": "markdown",
   "id": "fe8ce5e4-49fc-4509-a126-4c9c773b71c6",
   "metadata": {},
   "source": [
    "Types of Skewness:\n",
    "1.positive Skewness:(Right Skewness)\n",
    "2.Negative Skewness:(Left Skewness)\n",
    "3.calculating Skewness:\n",
    "4.Interpretation Skewness:\n",
    "5.Impact of Skewness:1.Mean and median 2. Statistical Analysis\n",
    "6.Visualization\n",
    "            "
   ]
  },
  {
   "cell_type": "code",
   "execution_count": null,
   "id": "51cc1be8-bf14-4621-87eb-d273fc2b16af",
   "metadata": {},
   "outputs": [],
   "source": [
    "Q9. If a data is right skewed then what will be the position of median with respect to mean?"
   ]
  },
  {
   "cell_type": "markdown",
   "id": "e40d3583-8a71-4abc-b629-031dc8935f01",
   "metadata": {},
   "source": [
    "In aright-skewness distribution the mean is typically greater than the median this happens beacause the tail on the right side of the distribution pulls the mean to right more than the median . Hence, in such a distribution."
   ]
  },
  {
   "cell_type": "code",
   "execution_count": null,
   "id": "c1412c43-1419-4f17-b83e-c8794c8a1809",
   "metadata": {},
   "outputs": [],
   "source": [
    "Q10. Explain the difference between covariance and correlation. How are these measures used in\n",
    "statistical analysis?"
   ]
  },
  {
   "cell_type": "markdown",
   "id": "084bc968-c7a2-465d-894a-eb7c6462b17a",
   "metadata": {},
   "source": [
    "Covariance: covariance measure the extent to which two variables change together.if variable tend to inc dec together\n",
    "Correlation: Correlation quantifies the degree to which two variables are linearly related,providing both strength and direction of the relationship.\n",
    "statistical analysis:\n",
    "covariance: used in portfolio theory to assess how assets move together\n",
    "correlation:commonly used in exploratory data analysis to identify and quantify realtionships btw variables."
   ]
  },
  {
   "cell_type": "code",
   "execution_count": null,
   "id": "d653be4a-e038-4ec2-aa3a-bf29f2ccebe5",
   "metadata": {},
   "outputs": [],
   "source": [
    "Q11. What is the formula for calculating the sample mean? Provide an example calculation for a\n",
    "dataset."
   ]
  },
  {
   "cell_type": "code",
   "execution_count": null,
   "id": "fca66424-6d75-4df9-ac9f-ecd518742add",
   "metadata": {},
   "outputs": [],
   "source": [
    "mean (average)\n",
    "x bar= sum of all data points in  the sample\n",
    "n is the number of data points in the sample\n",
    "Ex 4+8+15+16+23+42=108\n",
    "count n=6\n",
    "x bar=108/6=18"
   ]
  },
  {
   "cell_type": "code",
   "execution_count": null,
   "id": "7bbcd79f-8a9e-439c-810a-7f12dfd9856c",
   "metadata": {},
   "outputs": [],
   "source": [
    "Q12. For a normal distribution data what is the relationship between its measure of central tendency?"
   ]
  },
  {
   "cell_type": "code",
   "execution_count": null,
   "id": "030bfc05-cc9d-4b39-bf66-44e65a1eb78c",
   "metadata": {},
   "outputs": [],
   "source": [
    "1.Mean=the average of set of numbers,calculated by adding all the values together and dividing by the number values\n",
    "2.Median=the middle value in data set when the values are arranged in asceding or descending order.\n",
    "3.Mode=the value that appears most frequency in data set."
   ]
  },
  {
   "cell_type": "code",
   "execution_count": null,
   "id": "3be50cd0-9ad5-4acd-b64c-708cd495977d",
   "metadata": {},
   "outputs": [],
   "source": [
    "Q13. How is covariance different from correlation?"
   ]
  },
  {
   "cell_type": "markdown",
   "id": "52c476bb-dda1-4430-b42e-f54cb995a2ee",
   "metadata": {},
   "source": [
    "Covariance: covariance measure the extent to which two variables change together.if variable tend to inc dec together.\n",
    "Correlation: Correlation quantifies the degree to which two variables are linearly related,providing both strength and direction of the relationship."
   ]
  },
  {
   "cell_type": "code",
   "execution_count": null,
   "id": "a29cff45-078b-494d-9f9f-c3a5c82e92e4",
   "metadata": {},
   "outputs": [],
   "source": [
    "Q14. How do outliers affect measures of central tendency and dispersion? Provide an example."
   ]
  },
  {
   "cell_type": "code",
   "execution_count": null,
   "id": "49efe4ca-d4e2-416f-b3eb-a8407be3b6eb",
   "metadata": {},
   "outputs": [],
   "source": [
    "[250,270, 280, 290,300,310,320,330,1000]"
   ]
  },
  {
   "cell_type": "code",
   "execution_count": null,
   "id": "ba93bcdf-d80d-48c2-914e-0e9ad4c36e78",
   "metadata": {},
   "outputs": [],
   "source": [
    "without outlier Mean\n",
    "[250+270+280+290+300+310+320+330]/8=293.75\n",
    "median\n",
    "290+300/2=295\n",
    "mode there is no mode since all values are unique.\n",
    "Range 330-250=80\n"
   ]
  },
  {
   "cell_type": "markdown",
   "id": "c5c13718-50d3-43d0-8e64-3a84757032e9",
   "metadata": {},
   "source": [
    "mean  =  [250+270+280+290+300+310+320+330+1000]/9=394.44\n",
    " median= 300\n",
    " mo   "
   ]
  },
  {
   "cell_type": "code",
   "execution_count": null,
   "id": "d807afa2-dfd7-4a88-8a09-7edd914feefc",
   "metadata": {},
   "outputs": [],
   "source": []
  },
  {
   "cell_type": "code",
   "execution_count": null,
   "id": "88d6eaa7-3cb4-4ef4-9d82-23abd174f40c",
   "metadata": {},
   "outputs": [],
   "source": []
  },
  {
   "cell_type": "code",
   "execution_count": null,
   "id": "71be3a4e-8501-4884-b9e9-d0e89575dd3e",
   "metadata": {},
   "outputs": [],
   "source": []
  },
  {
   "cell_type": "code",
   "execution_count": null,
   "id": "5bf2f0da-648e-4171-b792-da7a1e946cb2",
   "metadata": {},
   "outputs": [],
   "source": []
  },
  {
   "cell_type": "code",
   "execution_count": null,
   "id": "b17ad36b-1edf-445e-b7b4-a275666dce4c",
   "metadata": {},
   "outputs": [],
   "source": []
  },
  {
   "cell_type": "code",
   "execution_count": null,
   "id": "d5160dc1-e742-4de2-ac78-4392582fb4ff",
   "metadata": {},
   "outputs": [],
   "source": []
  },
  {
   "cell_type": "code",
   "execution_count": null,
   "id": "7e47694b-25b5-4a96-a557-1a23acafc1c4",
   "metadata": {},
   "outputs": [],
   "source": []
  },
  {
   "cell_type": "code",
   "execution_count": null,
   "id": "b7e63803-70ec-4c05-b8f4-f0e9787fe60c",
   "metadata": {},
   "outputs": [],
   "source": []
  },
  {
   "cell_type": "code",
   "execution_count": null,
   "id": "52a8220a-0536-4d86-a3f2-d866fa05d9e6",
   "metadata": {},
   "outputs": [],
   "source": []
  }
 ],
 "metadata": {
  "kernelspec": {
   "display_name": "Python 3 (ipykernel)",
   "language": "python",
   "name": "python3"
  },
  "language_info": {
   "codemirror_mode": {
    "name": "ipython",
    "version": 3
   },
   "file_extension": ".py",
   "mimetype": "text/x-python",
   "name": "python",
   "nbconvert_exporter": "python",
   "pygments_lexer": "ipython3",
   "version": "3.10.8"
  }
 },
 "nbformat": 4,
 "nbformat_minor": 5
}
